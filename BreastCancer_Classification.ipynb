{
  "nbformat": 4,
  "nbformat_minor": 0,
  "metadata": {
    "colab": {
      "name": "BreastCancer_Classification.ipynb",
      "provenance": [],
      "authorship_tag": "ABX9TyN/LImNlIP28CL1Zmr/lz7U",
      "include_colab_link": true
    },
    "kernelspec": {
      "name": "python3",
      "display_name": "Python 3"
    },
    "language_info": {
      "name": "python"
    }
  },
  "cells": [
    {
      "cell_type": "markdown",
      "metadata": {
        "id": "view-in-github",
        "colab_type": "text"
      },
      "source": [
        "<a href=\"https://colab.research.google.com/github/srigouri/Data-Science-Dissertation/blob/main/BreastCancer_Classification.ipynb\" target=\"_parent\"><img src=\"https://colab.research.google.com/assets/colab-badge.svg\" alt=\"Open In Colab\"/></a>"
      ]
    },
    {
      "cell_type": "code",
      "execution_count": 155,
      "metadata": {
        "id": "oeoa58CDTn4g"
      },
      "outputs": [],
      "source": [
        "import numpy as np \n",
        "import pandas as pd \n",
        "from sklearn.model_selection import train_test_split,cross_val_score,KFold \n",
        "from sklearn.preprocessing import StandardScaler,LabelEncoder\n",
        "from sklearn.feature_selection import RFE\n",
        "import matplotlib.pyplot as plt\n",
        "from sklearn.svm import SVC\n",
        "from sklearn import metrics\n",
        "from sklearn.neighbors import KNeighborsClassifier\n",
        "from sklearn.naive_bayes import GaussianNB\n",
        "from sklearn.linear_model import LogisticRegression\n",
        "from sklearn.decomposition import PCA\n",
        "from sklearn.ensemble import BaggingClassifier,RandomForestClassifier,VotingClassifier\n",
        "from sklearn.metrics import f1_score,confusion_matrix,ConfusionMatrixDisplay\n",
        "from sklearn.metrics import make_scorer,accuracy_score, recall_score, precision_score, plot_roc_curve\n",
        "import seaborn as sns \n"
      ]
    },
    {
      "cell_type": "code",
      "source": [
        "cancer_data = pd.read_csv(\"https://raw.githubusercontent.com/srigouri/Data-Science-Dissertation/main/data%20(1).csv\")\n",
        "cancer_data.head()"
      ],
      "metadata": {
        "colab": {
          "base_uri": "https://localhost:8080/",
          "height": 317
        },
        "id": "ROxkoJqqaRju",
        "outputId": "ddfd32b6-2bca-4e2d-cde2-9fd704c8f84d"
      },
      "execution_count": 156,
      "outputs": [
        {
          "output_type": "execute_result",
          "data": {
            "text/plain": [
              "         id diagnosis  radius_mean  texture_mean  perimeter_mean  area_mean  \\\n",
              "0    842302         M        17.99         10.38          122.80     1001.0   \n",
              "1    842517         M        20.57         17.77          132.90     1326.0   \n",
              "2  84300903         M        19.69         21.25          130.00     1203.0   \n",
              "3  84348301         M        11.42         20.38           77.58      386.1   \n",
              "4  84358402         M        20.29         14.34          135.10     1297.0   \n",
              "\n",
              "   smoothness_mean  compactness_mean  concavity_mean  concave points_mean  \\\n",
              "0          0.11840           0.27760          0.3001              0.14710   \n",
              "1          0.08474           0.07864          0.0869              0.07017   \n",
              "2          0.10960           0.15990          0.1974              0.12790   \n",
              "3          0.14250           0.28390          0.2414              0.10520   \n",
              "4          0.10030           0.13280          0.1980              0.10430   \n",
              "\n",
              "   ...  texture_worst  perimeter_worst  area_worst  smoothness_worst  \\\n",
              "0  ...          17.33           184.60      2019.0            0.1622   \n",
              "1  ...          23.41           158.80      1956.0            0.1238   \n",
              "2  ...          25.53           152.50      1709.0            0.1444   \n",
              "3  ...          26.50            98.87       567.7            0.2098   \n",
              "4  ...          16.67           152.20      1575.0            0.1374   \n",
              "\n",
              "   compactness_worst  concavity_worst  concave points_worst  symmetry_worst  \\\n",
              "0             0.6656           0.7119                0.2654          0.4601   \n",
              "1             0.1866           0.2416                0.1860          0.2750   \n",
              "2             0.4245           0.4504                0.2430          0.3613   \n",
              "3             0.8663           0.6869                0.2575          0.6638   \n",
              "4             0.2050           0.4000                0.1625          0.2364   \n",
              "\n",
              "   fractal_dimension_worst  Unnamed: 32  \n",
              "0                  0.11890          NaN  \n",
              "1                  0.08902          NaN  \n",
              "2                  0.08758          NaN  \n",
              "3                  0.17300          NaN  \n",
              "4                  0.07678          NaN  \n",
              "\n",
              "[5 rows x 33 columns]"
            ],
            "text/html": [
              "\n",
              "  <div id=\"df-1f491596-c75e-49aa-89e1-d9772b26f043\">\n",
              "    <div class=\"colab-df-container\">\n",
              "      <div>\n",
              "<style scoped>\n",
              "    .dataframe tbody tr th:only-of-type {\n",
              "        vertical-align: middle;\n",
              "    }\n",
              "\n",
              "    .dataframe tbody tr th {\n",
              "        vertical-align: top;\n",
              "    }\n",
              "\n",
              "    .dataframe thead th {\n",
              "        text-align: right;\n",
              "    }\n",
              "</style>\n",
              "<table border=\"1\" class=\"dataframe\">\n",
              "  <thead>\n",
              "    <tr style=\"text-align: right;\">\n",
              "      <th></th>\n",
              "      <th>id</th>\n",
              "      <th>diagnosis</th>\n",
              "      <th>radius_mean</th>\n",
              "      <th>texture_mean</th>\n",
              "      <th>perimeter_mean</th>\n",
              "      <th>area_mean</th>\n",
              "      <th>smoothness_mean</th>\n",
              "      <th>compactness_mean</th>\n",
              "      <th>concavity_mean</th>\n",
              "      <th>concave points_mean</th>\n",
              "      <th>...</th>\n",
              "      <th>texture_worst</th>\n",
              "      <th>perimeter_worst</th>\n",
              "      <th>area_worst</th>\n",
              "      <th>smoothness_worst</th>\n",
              "      <th>compactness_worst</th>\n",
              "      <th>concavity_worst</th>\n",
              "      <th>concave points_worst</th>\n",
              "      <th>symmetry_worst</th>\n",
              "      <th>fractal_dimension_worst</th>\n",
              "      <th>Unnamed: 32</th>\n",
              "    </tr>\n",
              "  </thead>\n",
              "  <tbody>\n",
              "    <tr>\n",
              "      <th>0</th>\n",
              "      <td>842302</td>\n",
              "      <td>M</td>\n",
              "      <td>17.99</td>\n",
              "      <td>10.38</td>\n",
              "      <td>122.80</td>\n",
              "      <td>1001.0</td>\n",
              "      <td>0.11840</td>\n",
              "      <td>0.27760</td>\n",
              "      <td>0.3001</td>\n",
              "      <td>0.14710</td>\n",
              "      <td>...</td>\n",
              "      <td>17.33</td>\n",
              "      <td>184.60</td>\n",
              "      <td>2019.0</td>\n",
              "      <td>0.1622</td>\n",
              "      <td>0.6656</td>\n",
              "      <td>0.7119</td>\n",
              "      <td>0.2654</td>\n",
              "      <td>0.4601</td>\n",
              "      <td>0.11890</td>\n",
              "      <td>NaN</td>\n",
              "    </tr>\n",
              "    <tr>\n",
              "      <th>1</th>\n",
              "      <td>842517</td>\n",
              "      <td>M</td>\n",
              "      <td>20.57</td>\n",
              "      <td>17.77</td>\n",
              "      <td>132.90</td>\n",
              "      <td>1326.0</td>\n",
              "      <td>0.08474</td>\n",
              "      <td>0.07864</td>\n",
              "      <td>0.0869</td>\n",
              "      <td>0.07017</td>\n",
              "      <td>...</td>\n",
              "      <td>23.41</td>\n",
              "      <td>158.80</td>\n",
              "      <td>1956.0</td>\n",
              "      <td>0.1238</td>\n",
              "      <td>0.1866</td>\n",
              "      <td>0.2416</td>\n",
              "      <td>0.1860</td>\n",
              "      <td>0.2750</td>\n",
              "      <td>0.08902</td>\n",
              "      <td>NaN</td>\n",
              "    </tr>\n",
              "    <tr>\n",
              "      <th>2</th>\n",
              "      <td>84300903</td>\n",
              "      <td>M</td>\n",
              "      <td>19.69</td>\n",
              "      <td>21.25</td>\n",
              "      <td>130.00</td>\n",
              "      <td>1203.0</td>\n",
              "      <td>0.10960</td>\n",
              "      <td>0.15990</td>\n",
              "      <td>0.1974</td>\n",
              "      <td>0.12790</td>\n",
              "      <td>...</td>\n",
              "      <td>25.53</td>\n",
              "      <td>152.50</td>\n",
              "      <td>1709.0</td>\n",
              "      <td>0.1444</td>\n",
              "      <td>0.4245</td>\n",
              "      <td>0.4504</td>\n",
              "      <td>0.2430</td>\n",
              "      <td>0.3613</td>\n",
              "      <td>0.08758</td>\n",
              "      <td>NaN</td>\n",
              "    </tr>\n",
              "    <tr>\n",
              "      <th>3</th>\n",
              "      <td>84348301</td>\n",
              "      <td>M</td>\n",
              "      <td>11.42</td>\n",
              "      <td>20.38</td>\n",
              "      <td>77.58</td>\n",
              "      <td>386.1</td>\n",
              "      <td>0.14250</td>\n",
              "      <td>0.28390</td>\n",
              "      <td>0.2414</td>\n",
              "      <td>0.10520</td>\n",
              "      <td>...</td>\n",
              "      <td>26.50</td>\n",
              "      <td>98.87</td>\n",
              "      <td>567.7</td>\n",
              "      <td>0.2098</td>\n",
              "      <td>0.8663</td>\n",
              "      <td>0.6869</td>\n",
              "      <td>0.2575</td>\n",
              "      <td>0.6638</td>\n",
              "      <td>0.17300</td>\n",
              "      <td>NaN</td>\n",
              "    </tr>\n",
              "    <tr>\n",
              "      <th>4</th>\n",
              "      <td>84358402</td>\n",
              "      <td>M</td>\n",
              "      <td>20.29</td>\n",
              "      <td>14.34</td>\n",
              "      <td>135.10</td>\n",
              "      <td>1297.0</td>\n",
              "      <td>0.10030</td>\n",
              "      <td>0.13280</td>\n",
              "      <td>0.1980</td>\n",
              "      <td>0.10430</td>\n",
              "      <td>...</td>\n",
              "      <td>16.67</td>\n",
              "      <td>152.20</td>\n",
              "      <td>1575.0</td>\n",
              "      <td>0.1374</td>\n",
              "      <td>0.2050</td>\n",
              "      <td>0.4000</td>\n",
              "      <td>0.1625</td>\n",
              "      <td>0.2364</td>\n",
              "      <td>0.07678</td>\n",
              "      <td>NaN</td>\n",
              "    </tr>\n",
              "  </tbody>\n",
              "</table>\n",
              "<p>5 rows × 33 columns</p>\n",
              "</div>\n",
              "      <button class=\"colab-df-convert\" onclick=\"convertToInteractive('df-1f491596-c75e-49aa-89e1-d9772b26f043')\"\n",
              "              title=\"Convert this dataframe to an interactive table.\"\n",
              "              style=\"display:none;\">\n",
              "        \n",
              "  <svg xmlns=\"http://www.w3.org/2000/svg\" height=\"24px\"viewBox=\"0 0 24 24\"\n",
              "       width=\"24px\">\n",
              "    <path d=\"M0 0h24v24H0V0z\" fill=\"none\"/>\n",
              "    <path d=\"M18.56 5.44l.94 2.06.94-2.06 2.06-.94-2.06-.94-.94-2.06-.94 2.06-2.06.94zm-11 1L8.5 8.5l.94-2.06 2.06-.94-2.06-.94L8.5 2.5l-.94 2.06-2.06.94zm10 10l.94 2.06.94-2.06 2.06-.94-2.06-.94-.94-2.06-.94 2.06-2.06.94z\"/><path d=\"M17.41 7.96l-1.37-1.37c-.4-.4-.92-.59-1.43-.59-.52 0-1.04.2-1.43.59L10.3 9.45l-7.72 7.72c-.78.78-.78 2.05 0 2.83L4 21.41c.39.39.9.59 1.41.59.51 0 1.02-.2 1.41-.59l7.78-7.78 2.81-2.81c.8-.78.8-2.07 0-2.86zM5.41 20L4 18.59l7.72-7.72 1.47 1.35L5.41 20z\"/>\n",
              "  </svg>\n",
              "      </button>\n",
              "      \n",
              "  <style>\n",
              "    .colab-df-container {\n",
              "      display:flex;\n",
              "      flex-wrap:wrap;\n",
              "      gap: 12px;\n",
              "    }\n",
              "\n",
              "    .colab-df-convert {\n",
              "      background-color: #E8F0FE;\n",
              "      border: none;\n",
              "      border-radius: 50%;\n",
              "      cursor: pointer;\n",
              "      display: none;\n",
              "      fill: #1967D2;\n",
              "      height: 32px;\n",
              "      padding: 0 0 0 0;\n",
              "      width: 32px;\n",
              "    }\n",
              "\n",
              "    .colab-df-convert:hover {\n",
              "      background-color: #E2EBFA;\n",
              "      box-shadow: 0px 1px 2px rgba(60, 64, 67, 0.3), 0px 1px 3px 1px rgba(60, 64, 67, 0.15);\n",
              "      fill: #174EA6;\n",
              "    }\n",
              "\n",
              "    [theme=dark] .colab-df-convert {\n",
              "      background-color: #3B4455;\n",
              "      fill: #D2E3FC;\n",
              "    }\n",
              "\n",
              "    [theme=dark] .colab-df-convert:hover {\n",
              "      background-color: #434B5C;\n",
              "      box-shadow: 0px 1px 3px 1px rgba(0, 0, 0, 0.15);\n",
              "      filter: drop-shadow(0px 1px 2px rgba(0, 0, 0, 0.3));\n",
              "      fill: #FFFFFF;\n",
              "    }\n",
              "  </style>\n",
              "\n",
              "      <script>\n",
              "        const buttonEl =\n",
              "          document.querySelector('#df-1f491596-c75e-49aa-89e1-d9772b26f043 button.colab-df-convert');\n",
              "        buttonEl.style.display =\n",
              "          google.colab.kernel.accessAllowed ? 'block' : 'none';\n",
              "\n",
              "        async function convertToInteractive(key) {\n",
              "          const element = document.querySelector('#df-1f491596-c75e-49aa-89e1-d9772b26f043');\n",
              "          const dataTable =\n",
              "            await google.colab.kernel.invokeFunction('convertToInteractive',\n",
              "                                                     [key], {});\n",
              "          if (!dataTable) return;\n",
              "\n",
              "          const docLinkHtml = 'Like what you see? Visit the ' +\n",
              "            '<a target=\"_blank\" href=https://colab.research.google.com/notebooks/data_table.ipynb>data table notebook</a>'\n",
              "            + ' to learn more about interactive tables.';\n",
              "          element.innerHTML = '';\n",
              "          dataTable['output_type'] = 'display_data';\n",
              "          await google.colab.output.renderOutput(dataTable, element);\n",
              "          const docLink = document.createElement('div');\n",
              "          docLink.innerHTML = docLinkHtml;\n",
              "          element.appendChild(docLink);\n",
              "        }\n",
              "      </script>\n",
              "    </div>\n",
              "  </div>\n",
              "  "
            ]
          },
          "metadata": {},
          "execution_count": 156
        }
      ]
    },
    {
      "cell_type": "code",
      "source": [
        "cancer_data.drop('id',axis=1,inplace=True)\n",
        "cancer_data.drop('Unnamed: 32',axis=1,inplace=True)"
      ],
      "metadata": {
        "id": "qgb4Ptc3m66D"
      },
      "execution_count": 157,
      "outputs": []
    },
    {
      "cell_type": "code",
      "source": [
        "cancer_data['diagnosis'] = cancer_data['diagnosis'].map({'M':1,'B':0})\n"
      ],
      "metadata": {
        "id": "UDWq_M6mhyLm"
      },
      "execution_count": 158,
      "outputs": []
    },
    {
      "cell_type": "code",
      "source": [
        "diagnosis=cancer_data.diagnosis;"
      ],
      "metadata": {
        "id": "A4_Uo7e6gnhx"
      },
      "execution_count": 159,
      "outputs": []
    },
    {
      "cell_type": "code",
      "source": [
        "X = cancer_data.drop('diagnosis' ,axis = 1 )\n",
        "Y = pd.DataFrame(cancer_data.diagnosis).values.ravel()"
      ],
      "metadata": {
        "id": "WKhpxViWg8Fl"
      },
      "execution_count": 160,
      "outputs": []
    },
    {
      "cell_type": "markdown",
      "source": [
        "## Splitting data into 80% being used for training the model, and 20% for testing:"
      ],
      "metadata": {
        "id": "nnR1iC7Cbkh8"
      }
    },
    {
      "cell_type": "code",
      "source": [
        "X_train, X_test, Y_train, Y_test = train_test_split(X, Y, test_size = 0.2, random_state = 42 , stratify = Y)\n"
      ],
      "metadata": {
        "id": "xxa42D-ahPYt"
      },
      "execution_count": 161,
      "outputs": []
    },
    {
      "cell_type": "code",
      "source": [
        "X_train.shape,Y_train.shape\n"
      ],
      "metadata": {
        "colab": {
          "base_uri": "https://localhost:8080/"
        },
        "id": "T57vDhB_hem6",
        "outputId": "6a7df37c-742e-40b8-ab2d-d3ccbc11c0eb"
      },
      "execution_count": 162,
      "outputs": [
        {
          "output_type": "execute_result",
          "data": {
            "text/plain": [
              "((455, 30), (455,))"
            ]
          },
          "metadata": {},
          "execution_count": 162
        }
      ]
    },
    {
      "cell_type": "code",
      "source": [
        "Y_test.mean()"
      ],
      "metadata": {
        "colab": {
          "base_uri": "https://localhost:8080/"
        },
        "id": "z6rSHln9h79i",
        "outputId": "0b250659-79bd-479f-c72b-02049e403783"
      },
      "execution_count": 163,
      "outputs": [
        {
          "output_type": "execute_result",
          "data": {
            "text/plain": [
              "0.3684210526315789"
            ]
          },
          "metadata": {},
          "execution_count": 163
        }
      ]
    },
    {
      "cell_type": "markdown",
      "source": [
        "## Standardizing the input features"
      ],
      "metadata": {
        "id": "qZwu_tT9amy2"
      }
    },
    {
      "cell_type": "code",
      "source": [
        "SC = StandardScaler()\n",
        "train_scaled_X = SC.fit_transform(X_train)\n",
        "test_scaled_X = SC.transform(X_test)"
      ],
      "metadata": {
        "id": "lE7HDXqjj8br"
      },
      "execution_count": 164,
      "outputs": []
    },
    {
      "cell_type": "code",
      "source": [
        "train_scaled_X"
      ],
      "metadata": {
        "colab": {
          "base_uri": "https://localhost:8080/"
        },
        "id": "7-sA4KMPmwdv",
        "outputId": "b305fd68-ac02-4c3e-8765-e5399fc9279a"
      },
      "execution_count": 165,
      "outputs": [
        {
          "output_type": "execute_result",
          "data": {
            "text/plain": [
              "array([[ 0.51855873,  0.89182579,  0.4246317 , ..., -0.23574392,\n",
              "         0.05456632,  0.02183673],\n",
              "       [-0.51636409, -1.63971029, -0.54134872, ..., -0.32320788,\n",
              "        -0.13757624, -0.90440164],\n",
              "       [-0.36811839,  0.45551496, -0.38824993, ..., -0.89082504,\n",
              "        -0.675893  , -0.14401559],\n",
              "       ...,\n",
              "       [-0.32616206,  1.33280304, -0.38905998, ..., -0.84289958,\n",
              "        -0.96490082, -1.16888375],\n",
              "       [ 0.00948859,  0.25952507,  0.00786279, ...,  0.27571059,\n",
              "        -0.60284707, -0.30545988],\n",
              "       [ 0.80945595,  0.36918608,  0.79320285, ...,  1.00657384,\n",
              "        -0.46151907, -0.44817001]])"
            ]
          },
          "metadata": {},
          "execution_count": 165
        }
      ]
    },
    {
      "cell_type": "markdown",
      "source": [
        "## Dimensionality Reduction using Principal Component Analysis"
      ],
      "metadata": {
        "id": "SBL2pNEXbYlx"
      }
    },
    {
      "cell_type": "code",
      "source": [
        "pca = PCA(n_components=2)\n",
        "\n",
        "X_train_pca = pca.fit_transform(train_scaled_X)\n",
        "X_test_pca=pca.transform(test_scaled_X)"
      ],
      "metadata": {
        "id": "i-cr67jYj8nM"
      },
      "execution_count": 166,
      "outputs": []
    },
    {
      "cell_type": "code",
      "source": [
        "print(pca.explained_variance_ratio_)"
      ],
      "metadata": {
        "colab": {
          "base_uri": "https://localhost:8080/"
        },
        "id": "LbUqCzPhCiR6",
        "outputId": "85ef571d-86c4-4d2f-b327-ad7e296c8ff2"
      },
      "execution_count": 167,
      "outputs": [
        {
          "output_type": "stream",
          "name": "stdout",
          "text": [
            "[0.44593522 0.18545255]\n"
          ]
        }
      ]
    },
    {
      "cell_type": "markdown",
      "source": [
        "## Random Forest Classifier"
      ],
      "metadata": {
        "id": "dMaDb2Vmbl6w"
      }
    },
    {
      "cell_type": "code",
      "source": [
        "randomforest = RandomForestClassifier()\n",
        "randomforest.fit(X_train_pca,Y_train)\n",
        "\n",
        "prediction1 = randomforest.predict(X_test_pca)\n",
        "print (\"Accuracy =\", metrics.accuracy_score(prediction1,Y_test))"
      ],
      "metadata": {
        "colab": {
          "base_uri": "https://localhost:8080/"
        },
        "id": "-oLzOlZIbUO5",
        "outputId": "c1ca69c5-4cab-4339-8255-c6f31e39f6e6"
      },
      "execution_count": 168,
      "outputs": [
        {
          "output_type": "stream",
          "name": "stdout",
          "text": [
            "Accuracy = 0.9473684210526315\n"
          ]
        }
      ]
    },
    {
      "cell_type": "code",
      "source": [
        "print(\"For random forest:\")\n",
        "rfscores = cross_val_score(randomforest, X, Y,cv=5,scoring='accuracy')\n",
        "print(rfscores)\n",
        "print(rfscores.mean())"
      ],
      "metadata": {
        "colab": {
          "base_uri": "https://localhost:8080/"
        },
        "id": "0NBWtfPBfk9D",
        "outputId": "6c9bf19a-9ff3-4016-d91d-2105d1b3b189"
      },
      "execution_count": 169,
      "outputs": [
        {
          "output_type": "stream",
          "name": "stdout",
          "text": [
            "For random forest:\n",
            "[0.92105263 0.94736842 0.99122807 0.97368421 0.95575221]\n",
            "0.9578171091445427\n"
          ]
        }
      ]
    },
    {
      "cell_type": "code",
      "source": [
        "rf_predict = randomforest.fit(X_train_pca, Y_train).predict(X_test_pca)"
      ],
      "metadata": {
        "id": "iJAAb9-MlV3c"
      },
      "execution_count": 170,
      "outputs": []
    },
    {
      "cell_type": "code",
      "source": [
        "conf_mat_rf = ConfusionMatrixDisplay(confusion_matrix(Y_test, rf_predict))\n",
        "fig, ax = plt.subplots(figsize=(6, 6))\n",
        "ax.set_title('Training Set')\n",
        "conf_mat_rf.plot(cmap=plt.cm.Blues, ax=ax);"
      ],
      "metadata": {
        "colab": {
          "base_uri": "https://localhost:8080/",
          "height": 359
        },
        "id": "Ovw0B_ZSWoWz",
        "outputId": "0fac52cc-9263-4420-ebb1-e53c6bedeae0"
      },
      "execution_count": 171,
      "outputs": [
        {
          "output_type": "display_data",
          "data": {
            "text/plain": [
              "<Figure size 432x432 with 2 Axes>"
            ],
            "image/png": "[encoded data removed]"
          },
          "metadata": {
            "needs_background": "light"
          }
        }
      ]
    },
    {
      "cell_type": "code",
      "source": [
        "print(f'Accuracy: {accuracy_score(Y_test, rf_predict)}\\nPrecision: {precision_score(Y_test, rf_predict)}\\nRecall: {recall_score(Y_test, rf_predict)}\\nF-Score: {f1_score(Y_test,rf_predict)}')"
      ],
      "metadata": {
        "colab": {
          "base_uri": "https://localhost:8080/"
        },
        "id": "BTQoTB9qBNPq",
        "outputId": "996ce142-8bb4-4456-8835-bc3e8d24ea7a"
      },
      "execution_count": 172,
      "outputs": [
        {
          "output_type": "stream",
          "name": "stdout",
          "text": [
            "Accuracy: 0.956140350877193\n",
            "Precision: 0.9743589743589743\n",
            "Recall: 0.9047619047619048\n",
            "F-Score: 0.9382716049382716\n"
          ]
        }
      ]
    },
    {
      "cell_type": "markdown",
      "source": [
        "## K-Nearest Neighbor Classifier\n",
        "\n"
      ],
      "metadata": {
        "id": "RnQkOWIygRzU"
      }
    },
    {
      "cell_type": "code",
      "source": [
        "KNN = KNeighborsClassifier()\n",
        "KNN.fit(X_train_pca,Y_train)\n",
        "\n",
        "prediction1 = KNN.predict(X_test_pca)\n",
        "print (\"Accuracy =\", metrics.accuracy_score(prediction1,Y_test))"
      ],
      "metadata": {
        "colab": {
          "base_uri": "https://localhost:8080/"
        },
        "id": "hz0RRb0Wi1kZ",
        "outputId": "9d008b8a-c745-4bf3-898e-e46fb5276859"
      },
      "execution_count": 173,
      "outputs": [
        {
          "output_type": "stream",
          "name": "stdout",
          "text": [
            "Accuracy = 0.9473684210526315\n"
          ]
        }
      ]
    },
    {
      "cell_type": "code",
      "source": [
        "print(\"For K-Nearest Neighbors:\")\n",
        "knnscores = cross_val_score(KNN, X, Y,cv=5,scoring='accuracy')\n",
        "print(knnscores)\n",
        "print(knnscores.mean())"
      ],
      "metadata": {
        "id": "d8LVzoRDgdGp",
        "colab": {
          "base_uri": "https://localhost:8080/"
        },
        "outputId": "8f52fdd8-263c-411f-8849-6cacb1f7c965"
      },
      "execution_count": 174,
      "outputs": [
        {
          "output_type": "stream",
          "name": "stdout",
          "text": [
            "For K-Nearest Neighbors:\n",
            "[0.88596491 0.93859649 0.93859649 0.94736842 0.92920354]\n",
            "0.9279459711224964\n"
          ]
        }
      ]
    },
    {
      "cell_type": "code",
      "source": [
        "knn_predict =KNN.fit(X_train_pca, Y_train).predict(X_test_pca)\n"
      ],
      "metadata": {
        "id": "xFNtzWKKGR9T"
      },
      "execution_count": 175,
      "outputs": []
    },
    {
      "cell_type": "code",
      "source": [
        "conf_mat_knn = ConfusionMatrixDisplay(confusion_matrix(Y_test, knn_predict))\n",
        "fig, ax = plt.subplots(figsize=(6, 6))\n",
        "ax.set_title('Training Set')\n",
        "conf_mat_knn.plot(cmap=plt.cm.Blues, ax=ax);"
      ],
      "metadata": {
        "colab": {
          "base_uri": "https://localhost:8080/",
          "height": 359
        },
        "id": "YVMIwFBJXdda",
        "outputId": "e59a9e5c-bdf6-4f26-a6aa-f4c0e1d451f2"
      },
      "execution_count": 176,
      "outputs": [
        {
          "output_type": "display_data",
          "data": {
            "text/plain": [
              "<Figure size 432x432 with 2 Axes>"
            ],
            "image/png": "[encoded data removed]"
          },
          "metadata": {
            "needs_background": "light"
          }
        }
      ]
    },
    {
      "cell_type": "code",
      "source": [
        "print(f'Accuracy: {accuracy_score(Y_test, knn_predict)}\\nPrecision: {precision_score(Y_test, knn_predict)}\\nRecall: {recall_score(Y_test, knn_predict)}\\nF-Score: {f1_score(Y_test,knn_predict)}')"
      ],
      "metadata": {
        "colab": {
          "base_uri": "https://localhost:8080/"
        },
        "id": "Vokfv7vGFD7E",
        "outputId": "6ab23935-e825-4399-be1c-a327bcc1d1b5"
      },
      "execution_count": 177,
      "outputs": [
        {
          "output_type": "stream",
          "name": "stdout",
          "text": [
            "Accuracy: 0.9473684210526315\n",
            "Precision: 0.9736842105263158\n",
            "Recall: 0.8809523809523809\n",
            "F-Score: 0.925\n"
          ]
        }
      ]
    },
    {
      "cell_type": "markdown",
      "source": [
        "## Support Vector Classifier (SVC)"
      ],
      "metadata": {
        "id": "03WSf-CXWxrm"
      }
    },
    {
      "cell_type": "code",
      "source": [
        "supportvector = SVC(probability=True)\n",
        "supportvector.fit(X_train_pca,Y_train)\n",
        "\n",
        "prediction2 = supportvector.predict(X_test_pca)\n",
        "print (\"Accuracy =\", metrics.accuracy_score(prediction2,Y_test))"
      ],
      "metadata": {
        "colab": {
          "base_uri": "https://localhost:8080/"
        },
        "id": "XOiFUsolUp9V",
        "outputId": "153ac352-94b2-47f4-c32d-b94af84af850"
      },
      "execution_count": 178,
      "outputs": [
        {
          "output_type": "stream",
          "name": "stdout",
          "text": [
            "Accuracy = 0.9298245614035088\n"
          ]
        }
      ]
    },
    {
      "cell_type": "code",
      "source": [
        "print(\"For Support Vector:\")\n",
        "svscores = cross_val_score(supportvector, X, Y,cv=5,scoring='accuracy')\n",
        "print(svscores)\n",
        "print(svscores.mean())"
      ],
      "metadata": {
        "colab": {
          "base_uri": "https://localhost:8080/"
        },
        "id": "A9VCl8SWVrQl",
        "outputId": "f3f3f847-03c7-4259-abcf-e54c595221c8"
      },
      "execution_count": 179,
      "outputs": [
        {
          "output_type": "stream",
          "name": "stdout",
          "text": [
            "For Support Vector:\n",
            "[0.85087719 0.89473684 0.92982456 0.94736842 0.9380531 ]\n",
            "0.9121720229777983\n"
          ]
        }
      ]
    },
    {
      "cell_type": "code",
      "source": [
        "svc_predict = supportvector.fit(X_train_pca, Y_train).predict(X_test_pca)\n"
      ],
      "metadata": {
        "id": "q4-2E8PPWNJX"
      },
      "execution_count": 180,
      "outputs": []
    },
    {
      "cell_type": "code",
      "source": [
        "conf_mat_svc = ConfusionMatrixDisplay(confusion_matrix(Y_test, svc_predict))\n",
        "fig, ax = plt.subplots(figsize=(6, 6))\n",
        "ax.set_title('Training Set')\n",
        "conf_mat_svc.plot(cmap=plt.cm.Blues, ax=ax);"
      ],
      "metadata": {
        "colab": {
          "base_uri": "https://localhost:8080/",
          "height": 359
        },
        "id": "15_Y4Tp6X_1y",
        "outputId": "e5000f97-ca35-4182-fba6-1b7dd74d415e"
      },
      "execution_count": 181,
      "outputs": [
        {
          "output_type": "display_data",
          "data": {
            "text/plain": [
              "<Figure size 432x432 with 2 Axes>"
            ],
            "image/png": "[encoded data removed]"
          },
          "metadata": {
            "needs_background": "light"
          }
        }
      ]
    },
    {
      "cell_type": "code",
      "source": [
        "print(f'Accuracy: {accuracy_score(Y_test, svc_predict)}\\nPrecision: {precision_score(Y_test, svc_predict)}\\nRecall: {recall_score(Y_test, svc_predict)}\\nF-Score: {f1_score(Y_test,svc_predict)}')"
      ],
      "metadata": {
        "colab": {
          "base_uri": "https://localhost:8080/"
        },
        "id": "45mlPDboFQF8",
        "outputId": "9840cd4b-06a7-4345-a193-2a06aadf371e"
      },
      "execution_count": 182,
      "outputs": [
        {
          "output_type": "stream",
          "name": "stdout",
          "text": [
            "Accuracy: 0.9298245614035088\n",
            "Precision: 0.9722222222222222\n",
            "Recall: 0.8333333333333334\n",
            "F-Score: 0.8974358974358975\n"
          ]
        }
      ]
    },
    {
      "cell_type": "markdown",
      "source": [
        "## Logistic Regression"
      ],
      "metadata": {
        "id": "qCQr_E56Wn6i"
      }
    },
    {
      "cell_type": "code",
      "source": [
        "Logistic_reg = LogisticRegression(solver='liblinear', max_iter=100)\n",
        "Logistic_reg.fit(X_train_pca,Y_train)\n",
        "\n",
        "prediction3 = Logistic_reg.predict(X_test_pca)\n",
        "print (\"Accuracy =\", metrics.accuracy_score(prediction3,Y_test))"
      ],
      "metadata": {
        "colab": {
          "base_uri": "https://localhost:8080/"
        },
        "id": "BUS7Dw6_WmvD",
        "outputId": "2c6f9a84-9700-408e-89f8-11ef81315eb0"
      },
      "execution_count": 183,
      "outputs": [
        {
          "output_type": "stream",
          "name": "stdout",
          "text": [
            "Accuracy = 0.9473684210526315\n"
          ]
        }
      ]
    },
    {
      "cell_type": "code",
      "source": [
        "print(\"For Logistic Regression:\")\n",
        "lrscores = cross_val_score(Logistic_reg, X, Y,cv=5,scoring='accuracy')\n",
        "print(lrscores)\n",
        "print(lrscores.mean())"
      ],
      "metadata": {
        "colab": {
          "base_uri": "https://localhost:8080/"
        },
        "id": "uri5NF69pqb8",
        "outputId": "1e891f63-b062-4b9a-b373-1ea1856ad7de"
      },
      "execution_count": 184,
      "outputs": [
        {
          "output_type": "stream",
          "name": "stdout",
          "text": [
            "For Logistic Regression:\n",
            "[0.93859649 0.93859649 0.97368421 0.94736842 0.96460177]\n",
            "0.9525694767893185\n"
          ]
        }
      ]
    },
    {
      "cell_type": "code",
      "source": [
        "lr_predict = Logistic_reg.fit(X_train_pca, Y_train).predict(X_test_pca)\n"
      ],
      "metadata": {
        "id": "YALZLXKWxcu0"
      },
      "execution_count": 185,
      "outputs": []
    },
    {
      "cell_type": "code",
      "source": [
        "conf_mat_lr = ConfusionMatrixDisplay(confusion_matrix(Y_test, lr_predict))\n",
        "fig, ax = plt.subplots(figsize=(6, 6))\n",
        "ax.set_title('Training Set')\n",
        "conf_mat_lr.plot(cmap=plt.cm.Blues, ax=ax);"
      ],
      "metadata": {
        "colab": {
          "base_uri": "https://localhost:8080/",
          "height": 359
        },
        "id": "wiVVlCajYjeE",
        "outputId": "b60ac4e7-80b4-485e-ba2c-a51e05c94fb8"
      },
      "execution_count": 186,
      "outputs": [
        {
          "output_type": "display_data",
          "data": {
            "text/plain": [
              "<Figure size 432x432 with 2 Axes>"
            ],
            "image/png": "[encoded data removed]"
          },
          "metadata": {
            "needs_background": "light"
          }
        }
      ]
    },
    {
      "cell_type": "code",
      "source": [
        "print(f'Accuracy: {accuracy_score(Y_test, lr_predict)}\\nPrecision: {precision_score(Y_test, lr_predict)}\\nRecall: {recall_score(Y_test, lr_predict)}\\nF-Score: {f1_score(Y_test,lr_predict)}')"
      ],
      "metadata": {
        "colab": {
          "base_uri": "https://localhost:8080/"
        },
        "id": "uJvuCPsqFZAI",
        "outputId": "fd8fc63c-deaf-4dc9-ee06-3fc3f85d4aca"
      },
      "execution_count": 187,
      "outputs": [
        {
          "output_type": "stream",
          "name": "stdout",
          "text": [
            "Accuracy: 0.9473684210526315\n",
            "Precision: 0.9736842105263158\n",
            "Recall: 0.8809523809523809\n",
            "F-Score: 0.925\n"
          ]
        }
      ]
    },
    {
      "cell_type": "markdown",
      "source": [
        "## Naive Bayes Classifier"
      ],
      "metadata": {
        "id": "r72w4hPPxNJc"
      }
    },
    {
      "cell_type": "code",
      "source": [
        "Naive_bayes = GaussianNB()\n",
        "NB = Naive_bayes.fit(X_train_pca,Y_train)"
      ],
      "metadata": {
        "id": "lKYpRuYTxK_b"
      },
      "execution_count": 188,
      "outputs": []
    },
    {
      "cell_type": "code",
      "source": [
        "prediction4 = NB.predict(X_test_pca)\n",
        "print (\"Accuracy =\", metrics.accuracy_score(prediction4,Y_test))"
      ],
      "metadata": {
        "colab": {
          "base_uri": "https://localhost:8080/"
        },
        "id": "fbXx9iW6p-K3",
        "outputId": "bfbbd86d-e65f-4732-eb34-e214d4394667"
      },
      "execution_count": 189,
      "outputs": [
        {
          "output_type": "stream",
          "name": "stdout",
          "text": [
            "Accuracy = 0.8859649122807017\n"
          ]
        }
      ]
    },
    {
      "cell_type": "code",
      "source": [
        "print(\"For Naive Bayes Classifier:\")\n",
        "nbscores = cross_val_score(Naive_bayes, X, Y,cv=5,scoring='accuracy')\n",
        "print(nbscores)\n",
        "print(nbscores.mean())"
      ],
      "metadata": {
        "colab": {
          "base_uri": "https://localhost:8080/"
        },
        "id": "iwLNWvT7x6ul",
        "outputId": "b05b48ce-51b5-4472-b60a-499e8eb605c8"
      },
      "execution_count": 190,
      "outputs": [
        {
          "output_type": "stream",
          "name": "stdout",
          "text": [
            "For Naive Bayes Classifier:\n",
            "[0.92105263 0.92105263 0.94736842 0.94736842 0.95575221]\n",
            "0.9385188635305075\n"
          ]
        }
      ]
    },
    {
      "cell_type": "code",
      "source": [
        "nb_predict = Naive_bayes.fit(X_train_pca, Y_train).predict(X_test_pca)\n"
      ],
      "metadata": {
        "id": "IAEZgAs5yKs2"
      },
      "execution_count": 191,
      "outputs": []
    },
    {
      "cell_type": "code",
      "source": [
        "conf_mat_nb = ConfusionMatrixDisplay(confusion_matrix(Y_test, nb_predict))\n",
        "fig, ax = plt.subplots(figsize=(6, 6))\n",
        "ax.set_title('Training Set')\n",
        "conf_mat_nb.plot(cmap=plt.cm.Blues, ax=ax);"
      ],
      "metadata": {
        "colab": {
          "base_uri": "https://localhost:8080/",
          "height": 359
        },
        "id": "cR_D3xzAZF76",
        "outputId": "9e6128e8-fb2d-4d23-a222-f8288934aec5"
      },
      "execution_count": 192,
      "outputs": [
        {
          "output_type": "display_data",
          "data": {
            "text/plain": [
              "<Figure size 432x432 with 2 Axes>"
            ],
            "image/png": "[encoded data removed]"
          },
          "metadata": {
            "needs_background": "light"
          }
        }
      ]
    },
    {
      "cell_type": "code",
      "source": [
        "print(f'Accuracy: {accuracy_score(Y_test, nb_predict)}\\nPrecision: {precision_score(Y_test, nb_predict)}\\nRecall: {recall_score(Y_test, nb_predict)}\\nF-Score: {f1_score(Y_test,nb_predict)}')"
      ],
      "metadata": {
        "colab": {
          "base_uri": "https://localhost:8080/"
        },
        "id": "b8lnlktMFg39",
        "outputId": "94aaa3f4-00bf-4f8e-83c0-13af44b17f23"
      },
      "execution_count": 193,
      "outputs": [
        {
          "output_type": "stream",
          "name": "stdout",
          "text": [
            "Accuracy: 0.8859649122807017\n",
            "Precision: 0.8918918918918919\n",
            "Recall: 0.7857142857142857\n",
            "F-Score: 0.8354430379746834\n"
          ]
        }
      ]
    },
    {
      "cell_type": "markdown",
      "source": [
        "## Ensemble Classifier"
      ],
      "metadata": {
        "id": "j2Vfl7zcsdnz"
      }
    },
    {
      "cell_type": "code",
      "source": [
        "ensem_Clf = VotingClassifier(estimators = [('rf',randomforest), ('svc',supportvector), ('KNN',KNN), ('LR', Logistic_reg),('NB',Naive_bayes)], voting='soft') \n",
        "ensem_Clf.fit(X_train, Y_train)\n",
        "\n",
        "ensem_Clf_pred = ensem_Clf.predict(X_test)\n",
        "ensem_Clf_accu = accuracy_score(Y_test, ensem_Clf_pred)\n",
        "print('Accuracy score of the Voting ensemble model is', ensem_Clf_accu)"
      ],
      "metadata": {
        "colab": {
          "base_uri": "https://localhost:8080/"
        },
        "id": "cnZY1BEcrMt0",
        "outputId": "3e027bbe-247b-4bb5-9658-4252612d3396"
      },
      "execution_count": 194,
      "outputs": [
        {
          "output_type": "stream",
          "name": "stdout",
          "text": [
            "Accuracy score of the Voting ensemble model is 0.956140350877193\n"
          ]
        }
      ]
    },
    {
      "cell_type": "code",
      "source": [
        "conf_mat_emc = ConfusionMatrixDisplay(confusion_matrix(Y_test, ensem_Clf_pred))\n",
        "fig, ax = plt.subplots(figsize=(6, 6))\n",
        "ax.set_title('Training Set')\n",
        "conf_mat_emc.plot(cmap=plt.cm.Blues, ax=ax);"
      ],
      "metadata": {
        "colab": {
          "base_uri": "https://localhost:8080/",
          "height": 363
        },
        "id": "40xuItHaX-3O",
        "outputId": "04c09898-77bc-4ede-de95-064e031352aa"
      },
      "execution_count": 195,
      "outputs": [
        {
          "output_type": "display_data",
          "data": {
            "text/plain": [
              "<Figure size 432x432 with 2 Axes>"
            ],
            "image/png": "[encoded data removed]"
          },
          "metadata": {
            "needs_background": "light"
          }
        }
      ]
    },
    {
      "cell_type": "code",
      "source": [
        "print(f'Accuracy: {accuracy_score(Y_test, ensem_Clf_pred)}\\nPrecision: {precision_score(Y_test, ensem_Clf_pred)}\\nRecall: {recall_score(Y_test, ensem_Clf_pred)}\\nF-Score: {f1_score(Y_test,ensem_Clf_pred)}')"
      ],
      "metadata": {
        "colab": {
          "base_uri": "https://localhost:8080/"
        },
        "id": "TALgLs-EYPqn",
        "outputId": "1fd23ffa-e09b-4de8-9538-e50cb4cc5f7d"
      },
      "execution_count": 196,
      "outputs": [
        {
          "output_type": "stream",
          "name": "stdout",
          "text": [
            "Accuracy: 0.956140350877193\n",
            "Precision: 1.0\n",
            "Recall: 0.8809523809523809\n",
            "F-Score: 0.9367088607594937\n"
          ]
        }
      ]
    },
    {
      "cell_type": "code",
      "source": [
        "models = [\n",
        "    (\"Logistic Regression\", LogisticRegression()),\n",
        "    (\"KNN\", KNeighborsClassifier()),\n",
        "    (\"Naive Bayesian\", GaussianNB()),\n",
        "    (\"Support Vector Machine\", SVC()),\n",
        "    (\"Random Forest\", RandomForestClassifier()),\n",
        "    (\"Ensemble Classifier\",VotingClassifier(estimators = [('rf',randomforest), ('svc',supportvector), ('KNN',KNN), ('LR', Logistic_reg),('NB',Naive_bayes)], voting='soft'))]\n",
        "\n",
        "names = []\n",
        "cv_mean = []\n",
        "cv_std = []\n",
        "scoring = \"accuracy\"\n",
        "for name, model in models:\n",
        "    kfold = KFold(n_splits=10)\n",
        "    cv_results = cross_val_score(model, X_train_pca, Y_train, cv=kfold, scoring=scoring)\n",
        "    names.append(name)\n",
        "    cv_mean.append(cv_results.mean())\n",
        "    cv_std.append(cv_results.std())\n",
        "\n",
        "model_results = pd.DataFrame(list(zip(names, cv_mean, cv_std)), columns=['model', 'accuracy', 'stdev'])\n",
        "model_results.round(3)"
      ],
      "metadata": {
        "colab": {
          "base_uri": "https://localhost:8080/",
          "height": 237
        },
        "id": "MRDlMIB7IWsn",
        "outputId": "3481fe0b-e485-417b-e167-0d1ba244d603"
      },
      "execution_count": 197,
      "outputs": [
        {
          "output_type": "execute_result",
          "data": {
            "text/plain": [
              "                    model  accuracy  stdev\n",
              "0     Logistic Regression     0.947  0.030\n",
              "1                     KNN     0.936  0.023\n",
              "2          Naive Bayesian     0.916  0.026\n",
              "3  Support Vector Machine     0.932  0.044\n",
              "4           Random Forest     0.936  0.040\n",
              "5     Ensemble Classifier     0.936  0.036"
            ],
            "text/html": [
              "\n",
              "  <div id=\"df-0ea0c169-d263-4bab-93bb-d50941ad9d79\">\n",
              "    <div class=\"colab-df-container\">\n",
              "      <div>\n",
              "<style scoped>\n",
              "    .dataframe tbody tr th:only-of-type {\n",
              "        vertical-align: middle;\n",
              "    }\n",
              "\n",
              "    .dataframe tbody tr th {\n",
              "        vertical-align: top;\n",
              "    }\n",
              "\n",
              "    .dataframe thead th {\n",
              "        text-align: right;\n",
              "    }\n",
              "</style>\n",
              "<table border=\"1\" class=\"dataframe\">\n",
              "  <thead>\n",
              "    <tr style=\"text-align: right;\">\n",
              "      <th></th>\n",
              "      <th>model</th>\n",
              "      <th>accuracy</th>\n",
              "      <th>stdev</th>\n",
              "    </tr>\n",
              "  </thead>\n",
              "  <tbody>\n",
              "    <tr>\n",
              "      <th>0</th>\n",
              "      <td>Logistic Regression</td>\n",
              "      <td>0.947</td>\n",
              "      <td>0.030</td>\n",
              "    </tr>\n",
              "    <tr>\n",
              "      <th>1</th>\n",
              "      <td>KNN</td>\n",
              "      <td>0.936</td>\n",
              "      <td>0.023</td>\n",
              "    </tr>\n",
              "    <tr>\n",
              "      <th>2</th>\n",
              "      <td>Naive Bayesian</td>\n",
              "      <td>0.916</td>\n",
              "      <td>0.026</td>\n",
              "    </tr>\n",
              "    <tr>\n",
              "      <th>3</th>\n",
              "      <td>Support Vector Machine</td>\n",
              "      <td>0.932</td>\n",
              "      <td>0.044</td>\n",
              "    </tr>\n",
              "    <tr>\n",
              "      <th>4</th>\n",
              "      <td>Random Forest</td>\n",
              "      <td>0.936</td>\n",
              "      <td>0.040</td>\n",
              "    </tr>\n",
              "    <tr>\n",
              "      <th>5</th>\n",
              "      <td>Ensemble Classifier</td>\n",
              "      <td>0.936</td>\n",
              "      <td>0.036</td>\n",
              "    </tr>\n",
              "  </tbody>\n",
              "</table>\n",
              "</div>\n",
              "      <button class=\"colab-df-convert\" onclick=\"convertToInteractive('df-0ea0c169-d263-4bab-93bb-d50941ad9d79')\"\n",
              "              title=\"Convert this dataframe to an interactive table.\"\n",
              "              style=\"display:none;\">\n",
              "        \n",
              "  <svg xmlns=\"http://www.w3.org/2000/svg\" height=\"24px\"viewBox=\"0 0 24 24\"\n",
              "       width=\"24px\">\n",
              "    <path d=\"M0 0h24v24H0V0z\" fill=\"none\"/>\n",
              "    <path d=\"M18.56 5.44l.94 2.06.94-2.06 2.06-.94-2.06-.94-.94-2.06-.94 2.06-2.06.94zm-11 1L8.5 8.5l.94-2.06 2.06-.94-2.06-.94L8.5 2.5l-.94 2.06-2.06.94zm10 10l.94 2.06.94-2.06 2.06-.94-2.06-.94-.94-2.06-.94 2.06-2.06.94z\"/><path d=\"M17.41 7.96l-1.37-1.37c-.4-.4-.92-.59-1.43-.59-.52 0-1.04.2-1.43.59L10.3 9.45l-7.72 7.72c-.78.78-.78 2.05 0 2.83L4 21.41c.39.39.9.59 1.41.59.51 0 1.02-.2 1.41-.59l7.78-7.78 2.81-2.81c.8-.78.8-2.07 0-2.86zM5.41 20L4 18.59l7.72-7.72 1.47 1.35L5.41 20z\"/>\n",
              "  </svg>\n",
              "      </button>\n",
              "      \n",
              "  <style>\n",
              "    .colab-df-container {\n",
              "      display:flex;\n",
              "      flex-wrap:wrap;\n",
              "      gap: 12px;\n",
              "    }\n",
              "\n",
              "    .colab-df-convert {\n",
              "      background-color: #E8F0FE;\n",
              "      border: none;\n",
              "      border-radius: 50%;\n",
              "      cursor: pointer;\n",
              "      display: none;\n",
              "      fill: #1967D2;\n",
              "      height: 32px;\n",
              "      padding: 0 0 0 0;\n",
              "      width: 32px;\n",
              "    }\n",
              "\n",
              "    .colab-df-convert:hover {\n",
              "      background-color: #E2EBFA;\n",
              "      box-shadow: 0px 1px 2px rgba(60, 64, 67, 0.3), 0px 1px 3px 1px rgba(60, 64, 67, 0.15);\n",
              "      fill: #174EA6;\n",
              "    }\n",
              "\n",
              "    [theme=dark] .colab-df-convert {\n",
              "      background-color: #3B4455;\n",
              "      fill: #D2E3FC;\n",
              "    }\n",
              "\n",
              "    [theme=dark] .colab-df-convert:hover {\n",
              "      background-color: #434B5C;\n",
              "      box-shadow: 0px 1px 3px 1px rgba(0, 0, 0, 0.15);\n",
              "      filter: drop-shadow(0px 1px 2px rgba(0, 0, 0, 0.3));\n",
              "      fill: #FFFFFF;\n",
              "    }\n",
              "  </style>\n",
              "\n",
              "      <script>\n",
              "        const buttonEl =\n",
              "          document.querySelector('#df-0ea0c169-d263-4bab-93bb-d50941ad9d79 button.colab-df-convert');\n",
              "        buttonEl.style.display =\n",
              "          google.colab.kernel.accessAllowed ? 'block' : 'none';\n",
              "\n",
              "        async function convertToInteractive(key) {\n",
              "          const element = document.querySelector('#df-0ea0c169-d263-4bab-93bb-d50941ad9d79');\n",
              "          const dataTable =\n",
              "            await google.colab.kernel.invokeFunction('convertToInteractive',\n",
              "                                                     [key], {});\n",
              "          if (!dataTable) return;\n",
              "\n",
              "          const docLinkHtml = 'Like what you see? Visit the ' +\n",
              "            '<a target=\"_blank\" href=https://colab.research.google.com/notebooks/data_table.ipynb>data table notebook</a>'\n",
              "            + ' to learn more about interactive tables.';\n",
              "          element.innerHTML = '';\n",
              "          dataTable['output_type'] = 'display_data';\n",
              "          await google.colab.output.renderOutput(dataTable, element);\n",
              "          const docLink = document.createElement('div');\n",
              "          docLink.innerHTML = docLinkHtml;\n",
              "          element.appendChild(docLink);\n",
              "        }\n",
              "      </script>\n",
              "    </div>\n",
              "  </div>\n",
              "  "
            ]
          },
          "metadata": {},
          "execution_count": 197
        }
      ]
    }
  ]
}